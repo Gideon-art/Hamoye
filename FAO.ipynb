{
  "nbformat": 4,
  "nbformat_minor": 0,
  "metadata": {
    "colab": {
      "provenance": [],
      "authorship_tag": "ABX9TyMJ20GHdV7VC8uzhJsrM/J4",
      "include_colab_link": true
    },
    "kernelspec": {
      "name": "python3",
      "display_name": "Python 3"
    },
    "language_info": {
      "name": "python"
    }
  },
  "cells": [
    {
      "cell_type": "markdown",
      "metadata": {
        "id": "view-in-github",
        "colab_type": "text"
      },
      "source": [
        "<a href=\"https://colab.research.google.com/github/Gideon-art/Hamoye/blob/main/FAO.ipynb\" target=\"_parent\"><img src=\"https://colab.research.google.com/assets/colab-badge.svg\" alt=\"Open In Colab\"/></a>"
      ]
    },
    {
      "cell_type": "code",
      "execution_count": 35,
      "metadata": {
        "id": "YqQBrl9ryocO"
      },
      "outputs": [],
      "source": [
        "import pandas as pd\n",
        "fao = pd.read_csv('https://github.com/HamoyeHQ/HDSC-Introduction-to-Python-for-machine-learning/files/7768140/FoodBalanceSheets_E_Africa_NOFLAG.csv ', encoding='latin-1')"
      ]
    },
    {
      "cell_type": "code",
      "source": [
        "fao"
      ],
      "metadata": {
        "colab": {
          "base_uri": "https://localhost:8080/",
          "height": 468
        },
        "id": "xVbfWnvRzvs8",
        "outputId": "f6d87080-951e-472f-c694-dbbe09e24b16"
      },
      "execution_count": 36,
      "outputs": [
        {
          "output_type": "execute_result",
          "data": {
            "text/plain": [
              "       Area Code      Area  Item Code           Item  Element Code  \\\n",
              "0              4   Algeria       2501     Population           511   \n",
              "1              4   Algeria       2501     Population          5301   \n",
              "2              4   Algeria       2901    Grand Total           664   \n",
              "3              4   Algeria       2901    Grand Total           674   \n",
              "4              4   Algeria       2901    Grand Total           684   \n",
              "...          ...       ...        ...            ...           ...   \n",
              "60938        181  Zimbabwe       2899  Miscellaneous          5142   \n",
              "60939        181  Zimbabwe       2899  Miscellaneous           645   \n",
              "60940        181  Zimbabwe       2899  Miscellaneous           664   \n",
              "60941        181  Zimbabwe       2899  Miscellaneous           674   \n",
              "60942        181  Zimbabwe       2899  Miscellaneous           684   \n",
              "\n",
              "                                      Element             Unit     Y2014  \\\n",
              "0               Total Population - Both sexes     1000 persons  38924.00   \n",
              "1                    Domestic supply quantity      1000 tonnes      0.00   \n",
              "2               Food supply (kcal/capita/day)  kcal/capita/day   3377.00   \n",
              "3      Protein supply quantity (g/capita/day)     g/capita/day     94.90   \n",
              "4          Fat supply quantity (g/capita/day)     g/capita/day     80.06   \n",
              "...                                       ...              ...       ...   \n",
              "60938                                    Food      1000 tonnes     42.00   \n",
              "60939     Food supply quantity (kg/capita/yr)               kg      3.06   \n",
              "60940           Food supply (kcal/capita/day)  kcal/capita/day      3.00   \n",
              "60941  Protein supply quantity (g/capita/day)     g/capita/day      0.10   \n",
              "60942      Fat supply quantity (g/capita/day)     g/capita/day      0.04   \n",
              "\n",
              "          Y2015     Y2016     Y2017     Y2018  \n",
              "0      39728.00  40551.00  41389.00  42228.00  \n",
              "1          0.00      0.00      0.00      0.00  \n",
              "2       3379.00   3372.00   3341.00   3322.00  \n",
              "3         94.35     94.72     92.82     91.83  \n",
              "4         79.36     77.40     80.19     77.28  \n",
              "...         ...       ...       ...       ...  \n",
              "60938     46.00     33.00     19.00     16.00  \n",
              "60939      3.33      2.35      1.33      1.08  \n",
              "60940      4.00      3.00      1.00      1.00  \n",
              "60941      0.11      0.08      0.04      0.04  \n",
              "60942      0.05      0.03      0.02      0.01  \n",
              "\n",
              "[60943 rows x 12 columns]"
            ],
            "text/html": [
              "\n",
              "  <div id=\"df-d89c0040-da17-47d4-a494-a4ec3bb9062f\">\n",
              "    <div class=\"colab-df-container\">\n",
              "      <div>\n",
              "<style scoped>\n",
              "    .dataframe tbody tr th:only-of-type {\n",
              "        vertical-align: middle;\n",
              "    }\n",
              "\n",
              "    .dataframe tbody tr th {\n",
              "        vertical-align: top;\n",
              "    }\n",
              "\n",
              "    .dataframe thead th {\n",
              "        text-align: right;\n",
              "    }\n",
              "</style>\n",
              "<table border=\"1\" class=\"dataframe\">\n",
              "  <thead>\n",
              "    <tr style=\"text-align: right;\">\n",
              "      <th></th>\n",
              "      <th>Area Code</th>\n",
              "      <th>Area</th>\n",
              "      <th>Item Code</th>\n",
              "      <th>Item</th>\n",
              "      <th>Element Code</th>\n",
              "      <th>Element</th>\n",
              "      <th>Unit</th>\n",
              "      <th>Y2014</th>\n",
              "      <th>Y2015</th>\n",
              "      <th>Y2016</th>\n",
              "      <th>Y2017</th>\n",
              "      <th>Y2018</th>\n",
              "    </tr>\n",
              "  </thead>\n",
              "  <tbody>\n",
              "    <tr>\n",
              "      <th>0</th>\n",
              "      <td>4</td>\n",
              "      <td>Algeria</td>\n",
              "      <td>2501</td>\n",
              "      <td>Population</td>\n",
              "      <td>511</td>\n",
              "      <td>Total Population - Both sexes</td>\n",
              "      <td>1000 persons</td>\n",
              "      <td>38924.00</td>\n",
              "      <td>39728.00</td>\n",
              "      <td>40551.00</td>\n",
              "      <td>41389.00</td>\n",
              "      <td>42228.00</td>\n",
              "    </tr>\n",
              "    <tr>\n",
              "      <th>1</th>\n",
              "      <td>4</td>\n",
              "      <td>Algeria</td>\n",
              "      <td>2501</td>\n",
              "      <td>Population</td>\n",
              "      <td>5301</td>\n",
              "      <td>Domestic supply quantity</td>\n",
              "      <td>1000 tonnes</td>\n",
              "      <td>0.00</td>\n",
              "      <td>0.00</td>\n",
              "      <td>0.00</td>\n",
              "      <td>0.00</td>\n",
              "      <td>0.00</td>\n",
              "    </tr>\n",
              "    <tr>\n",
              "      <th>2</th>\n",
              "      <td>4</td>\n",
              "      <td>Algeria</td>\n",
              "      <td>2901</td>\n",
              "      <td>Grand Total</td>\n",
              "      <td>664</td>\n",
              "      <td>Food supply (kcal/capita/day)</td>\n",
              "      <td>kcal/capita/day</td>\n",
              "      <td>3377.00</td>\n",
              "      <td>3379.00</td>\n",
              "      <td>3372.00</td>\n",
              "      <td>3341.00</td>\n",
              "      <td>3322.00</td>\n",
              "    </tr>\n",
              "    <tr>\n",
              "      <th>3</th>\n",
              "      <td>4</td>\n",
              "      <td>Algeria</td>\n",
              "      <td>2901</td>\n",
              "      <td>Grand Total</td>\n",
              "      <td>674</td>\n",
              "      <td>Protein supply quantity (g/capita/day)</td>\n",
              "      <td>g/capita/day</td>\n",
              "      <td>94.90</td>\n",
              "      <td>94.35</td>\n",
              "      <td>94.72</td>\n",
              "      <td>92.82</td>\n",
              "      <td>91.83</td>\n",
              "    </tr>\n",
              "    <tr>\n",
              "      <th>4</th>\n",
              "      <td>4</td>\n",
              "      <td>Algeria</td>\n",
              "      <td>2901</td>\n",
              "      <td>Grand Total</td>\n",
              "      <td>684</td>\n",
              "      <td>Fat supply quantity (g/capita/day)</td>\n",
              "      <td>g/capita/day</td>\n",
              "      <td>80.06</td>\n",
              "      <td>79.36</td>\n",
              "      <td>77.40</td>\n",
              "      <td>80.19</td>\n",
              "      <td>77.28</td>\n",
              "    </tr>\n",
              "    <tr>\n",
              "      <th>...</th>\n",
              "      <td>...</td>\n",
              "      <td>...</td>\n",
              "      <td>...</td>\n",
              "      <td>...</td>\n",
              "      <td>...</td>\n",
              "      <td>...</td>\n",
              "      <td>...</td>\n",
              "      <td>...</td>\n",
              "      <td>...</td>\n",
              "      <td>...</td>\n",
              "      <td>...</td>\n",
              "      <td>...</td>\n",
              "    </tr>\n",
              "    <tr>\n",
              "      <th>60938</th>\n",
              "      <td>181</td>\n",
              "      <td>Zimbabwe</td>\n",
              "      <td>2899</td>\n",
              "      <td>Miscellaneous</td>\n",
              "      <td>5142</td>\n",
              "      <td>Food</td>\n",
              "      <td>1000 tonnes</td>\n",
              "      <td>42.00</td>\n",
              "      <td>46.00</td>\n",
              "      <td>33.00</td>\n",
              "      <td>19.00</td>\n",
              "      <td>16.00</td>\n",
              "    </tr>\n",
              "    <tr>\n",
              "      <th>60939</th>\n",
              "      <td>181</td>\n",
              "      <td>Zimbabwe</td>\n",
              "      <td>2899</td>\n",
              "      <td>Miscellaneous</td>\n",
              "      <td>645</td>\n",
              "      <td>Food supply quantity (kg/capita/yr)</td>\n",
              "      <td>kg</td>\n",
              "      <td>3.06</td>\n",
              "      <td>3.33</td>\n",
              "      <td>2.35</td>\n",
              "      <td>1.33</td>\n",
              "      <td>1.08</td>\n",
              "    </tr>\n",
              "    <tr>\n",
              "      <th>60940</th>\n",
              "      <td>181</td>\n",
              "      <td>Zimbabwe</td>\n",
              "      <td>2899</td>\n",
              "      <td>Miscellaneous</td>\n",
              "      <td>664</td>\n",
              "      <td>Food supply (kcal/capita/day)</td>\n",
              "      <td>kcal/capita/day</td>\n",
              "      <td>3.00</td>\n",
              "      <td>4.00</td>\n",
              "      <td>3.00</td>\n",
              "      <td>1.00</td>\n",
              "      <td>1.00</td>\n",
              "    </tr>\n",
              "    <tr>\n",
              "      <th>60941</th>\n",
              "      <td>181</td>\n",
              "      <td>Zimbabwe</td>\n",
              "      <td>2899</td>\n",
              "      <td>Miscellaneous</td>\n",
              "      <td>674</td>\n",
              "      <td>Protein supply quantity (g/capita/day)</td>\n",
              "      <td>g/capita/day</td>\n",
              "      <td>0.10</td>\n",
              "      <td>0.11</td>\n",
              "      <td>0.08</td>\n",
              "      <td>0.04</td>\n",
              "      <td>0.04</td>\n",
              "    </tr>\n",
              "    <tr>\n",
              "      <th>60942</th>\n",
              "      <td>181</td>\n",
              "      <td>Zimbabwe</td>\n",
              "      <td>2899</td>\n",
              "      <td>Miscellaneous</td>\n",
              "      <td>684</td>\n",
              "      <td>Fat supply quantity (g/capita/day)</td>\n",
              "      <td>g/capita/day</td>\n",
              "      <td>0.04</td>\n",
              "      <td>0.05</td>\n",
              "      <td>0.03</td>\n",
              "      <td>0.02</td>\n",
              "      <td>0.01</td>\n",
              "    </tr>\n",
              "  </tbody>\n",
              "</table>\n",
              "<p>60943 rows × 12 columns</p>\n",
              "</div>\n",
              "      <button class=\"colab-df-convert\" onclick=\"convertToInteractive('df-d89c0040-da17-47d4-a494-a4ec3bb9062f')\"\n",
              "              title=\"Convert this dataframe to an interactive table.\"\n",
              "              style=\"display:none;\">\n",
              "        \n",
              "  <svg xmlns=\"http://www.w3.org/2000/svg\" height=\"24px\"viewBox=\"0 0 24 24\"\n",
              "       width=\"24px\">\n",
              "    <path d=\"M0 0h24v24H0V0z\" fill=\"none\"/>\n",
              "    <path d=\"M18.56 5.44l.94 2.06.94-2.06 2.06-.94-2.06-.94-.94-2.06-.94 2.06-2.06.94zm-11 1L8.5 8.5l.94-2.06 2.06-.94-2.06-.94L8.5 2.5l-.94 2.06-2.06.94zm10 10l.94 2.06.94-2.06 2.06-.94-2.06-.94-.94-2.06-.94 2.06-2.06.94z\"/><path d=\"M17.41 7.96l-1.37-1.37c-.4-.4-.92-.59-1.43-.59-.52 0-1.04.2-1.43.59L10.3 9.45l-7.72 7.72c-.78.78-.78 2.05 0 2.83L4 21.41c.39.39.9.59 1.41.59.51 0 1.02-.2 1.41-.59l7.78-7.78 2.81-2.81c.8-.78.8-2.07 0-2.86zM5.41 20L4 18.59l7.72-7.72 1.47 1.35L5.41 20z\"/>\n",
              "  </svg>\n",
              "      </button>\n",
              "      \n",
              "  <style>\n",
              "    .colab-df-container {\n",
              "      display:flex;\n",
              "      flex-wrap:wrap;\n",
              "      gap: 12px;\n",
              "    }\n",
              "\n",
              "    .colab-df-convert {\n",
              "      background-color: #E8F0FE;\n",
              "      border: none;\n",
              "      border-radius: 50%;\n",
              "      cursor: pointer;\n",
              "      display: none;\n",
              "      fill: #1967D2;\n",
              "      height: 32px;\n",
              "      padding: 0 0 0 0;\n",
              "      width: 32px;\n",
              "    }\n",
              "\n",
              "    .colab-df-convert:hover {\n",
              "      background-color: #E2EBFA;\n",
              "      box-shadow: 0px 1px 2px rgba(60, 64, 67, 0.3), 0px 1px 3px 1px rgba(60, 64, 67, 0.15);\n",
              "      fill: #174EA6;\n",
              "    }\n",
              "\n",
              "    [theme=dark] .colab-df-convert {\n",
              "      background-color: #3B4455;\n",
              "      fill: #D2E3FC;\n",
              "    }\n",
              "\n",
              "    [theme=dark] .colab-df-convert:hover {\n",
              "      background-color: #434B5C;\n",
              "      box-shadow: 0px 1px 3px 1px rgba(0, 0, 0, 0.15);\n",
              "      filter: drop-shadow(0px 1px 2px rgba(0, 0, 0, 0.3));\n",
              "      fill: #FFFFFF;\n",
              "    }\n",
              "  </style>\n",
              "\n",
              "      <script>\n",
              "        const buttonEl =\n",
              "          document.querySelector('#df-d89c0040-da17-47d4-a494-a4ec3bb9062f button.colab-df-convert');\n",
              "        buttonEl.style.display =\n",
              "          google.colab.kernel.accessAllowed ? 'block' : 'none';\n",
              "\n",
              "        async function convertToInteractive(key) {\n",
              "          const element = document.querySelector('#df-d89c0040-da17-47d4-a494-a4ec3bb9062f');\n",
              "          const dataTable =\n",
              "            await google.colab.kernel.invokeFunction('convertToInteractive',\n",
              "                                                     [key], {});\n",
              "          if (!dataTable) return;\n",
              "\n",
              "          const docLinkHtml = 'Like what you see? Visit the ' +\n",
              "            '<a target=\"_blank\" href=https://colab.research.google.com/notebooks/data_table.ipynb>data table notebook</a>'\n",
              "            + ' to learn more about interactive tables.';\n",
              "          element.innerHTML = '';\n",
              "          dataTable['output_type'] = 'display_data';\n",
              "          await google.colab.output.renderOutput(dataTable, element);\n",
              "          const docLink = document.createElement('div');\n",
              "          docLink.innerHTML = docLinkHtml;\n",
              "          element.appendChild(docLink);\n",
              "        }\n",
              "      </script>\n",
              "    </div>\n",
              "  </div>\n",
              "  "
            ]
          },
          "metadata": {},
          "execution_count": 36
        }
      ]
    },
    {
      "cell_type": "markdown",
      "source": [
        "What is the total Protein supply quantity in Madagascar in 2015?"
      ],
      "metadata": {
        "id": "Cfs_nRahz7qE"
      }
    },
    {
      "cell_type": "code",
      "source": [
        "fao[(fao['Area']=='Madagascar') & (fao['Y2015'])].sum()"
      ],
      "metadata": {
        "colab": {
          "base_uri": "https://localhost:8080/"
        },
        "id": "Jms2qF3Dzvzb",
        "outputId": "3a4bd28e-93da-4ffe-f44a-7b2e72431403"
      },
      "execution_count": 37,
      "outputs": [
        {
          "output_type": "execute_result",
          "data": {
            "text/plain": [
              "Area Code                                                  101007\n",
              "Area            MadagascarMadagascarMadagascarMadagascarMadaga...\n",
              "Item Code                                                 2128948\n",
              "Item            PopulationGrand TotalGrand TotalGrand TotalVeg...\n",
              "Element Code                                              2811467\n",
              "Element         Total Population - Both sexesFood supply (kcal...\n",
              "Unit            1000 personskcal/capita/dayg/capita/dayg/capit...\n",
              "Y2014                                                   128985.25\n",
              "Y2015                                                    126674.9\n",
              "Y2016                                                   128952.17\n",
              "Y2017                                                   131075.68\n",
              "Y2018                                                   134434.33\n",
              "dtype: object"
            ]
          },
          "metadata": {},
          "execution_count": 37
        }
      ]
    },
    {
      "cell_type": "markdown",
      "source": [
        "Perform a groupby operation on ‘Element’.  What is the total number of the sum of Processing in 2017?"
      ],
      "metadata": {
        "id": "FiPbCdfY0Iuu"
      }
    },
    {
      "cell_type": "code",
      "source": [
        "fao.groupby('Element')['Y2017'].sum()['Processing']"
      ],
      "metadata": {
        "colab": {
          "base_uri": "https://localhost:8080/"
        },
        "id": "v3gc3Q62z6g8",
        "outputId": "ccc3f964-40bb-49cf-9ecb-365549b090d0"
      },
      "execution_count": 38,
      "outputs": [
        {
          "output_type": "execute_result",
          "data": {
            "text/plain": [
              "292836.0"
            ]
          },
          "metadata": {},
          "execution_count": 38
        }
      ]
    },
    {
      "cell_type": "markdown",
      "source": [
        "What is the total Protein supply quantity in Madagascar in 2015?"
      ],
      "metadata": {
        "id": "8pKywc6e0W1e"
      }
    },
    {
      "cell_type": "code",
      "source": [
        "fao[(fao['Area']=='Madagascar') & (fao['Y2015'])]['Y2015'].sum()"
      ],
      "metadata": {
        "colab": {
          "base_uri": "https://localhost:8080/"
        },
        "id": "7zAPJ25P0aeI",
        "outputId": "873ebd1c-4a8f-4a57-dce1-30f605f04f92"
      },
      "execution_count": 39,
      "outputs": [
        {
          "output_type": "execute_result",
          "data": {
            "text/plain": [
              "126674.9"
            ]
          },
          "metadata": {},
          "execution_count": 39
        }
      ]
    },
    {
      "cell_type": "markdown",
      "source": [
        "What is the total number and percentage of missing data in 2014 to 3 decimal places?"
      ],
      "metadata": {
        "id": "7QKAqNWi0f0e"
      }
    },
    {
      "cell_type": "code",
      "source": [
        "total_missing = fao['Y2014'].isnull().sum()\n",
        "percent_missing = (total_missing / len(fao['Y2014'])) * 100\n",
        "percent_missing = round(percent_missing, 3)\n",
        "print(percent_missing)\n",
        "print(total_missing)"
      ],
      "metadata": {
        "colab": {
          "base_uri": "https://localhost:8080/"
        },
        "id": "BB00TicV0gZb",
        "outputId": "f55df80d-bbed-4cf7-ff89-314fd99fef6b"
      },
      "execution_count": 40,
      "outputs": [
        {
          "output_type": "stream",
          "name": "stdout",
          "text": [
            "2.607\n",
            "1589\n"
          ]
        }
      ]
    },
    {
      "cell_type": "markdown",
      "source": [
        "Perform a groupby operation on ‘Element’.  What year has the highest sum of Stock Variation?"
      ],
      "metadata": {
        "id": "taMmyFia0zQr"
      }
    },
    {
      "cell_type": "code",
      "source": [
        "sum_stock=fao.groupby('Element')['Y2014', 'Y2015', 'Y2016', 'Y2017', 'Y2018'].sum()\n",
        "sum_stock.sum()"
      ],
      "metadata": {
        "colab": {
          "base_uri": "https://localhost:8080/"
        },
        "id": "1H745_n602am",
        "outputId": "2b379945-abc8-4655-a4f3-dc2f87217ad5"
      },
      "execution_count": 41,
      "outputs": [
        {
          "output_type": "stream",
          "name": "stderr",
          "text": [
            "<ipython-input-41-59f443962e6e>:1: FutureWarning: Indexing with multiple keys (implicitly converted to a tuple of keys) will be deprecated, use a list instead.\n",
            "  sum_stock=fao.groupby('Element')['Y2014', 'Y2015', 'Y2016', 'Y2017', 'Y2018'].sum()\n"
          ]
        },
        {
          "output_type": "execute_result",
          "data": {
            "text/plain": [
              "Y2014    7965086.13\n",
              "Y2015    8032340.23\n",
              "Y2016    8112472.65\n",
              "Y2017    8375729.19\n",
              "Y2018    8554629.96\n",
              "dtype: float64"
            ]
          },
          "metadata": {},
          "execution_count": 41
        }
      ]
    },
    {
      "cell_type": "markdown",
      "source": [
        "Mean and STD"
      ],
      "metadata": {
        "id": "6zaAnhVo0-Bm"
      }
    },
    {
      "cell_type": "code",
      "source": [
        "fao.describe()"
      ],
      "metadata": {
        "colab": {
          "base_uri": "https://localhost:8080/",
          "height": 300
        },
        "id": "gVZMav7L1Vgl",
        "outputId": "8a09cf6a-20e1-46a9-f98d-a189c2ef8a82"
      },
      "execution_count": 42,
      "outputs": [
        {
          "output_type": "execute_result",
          "data": {
            "text/plain": [
              "          Area Code     Item Code  Element Code          Y2014          Y2015  \\\n",
              "count  60943.000000  60943.000000  60943.000000   59354.000000   59395.000000   \n",
              "mean     134.265576   2687.176706   3814.856456     134.196282     135.235966   \n",
              "std       72.605709    146.055739   2212.007033    1567.663696    1603.403984   \n",
              "min        4.000000   2501.000000    511.000000   -1796.000000   -3161.000000   \n",
              "25%       74.000000   2562.000000    684.000000       0.000000       0.000000   \n",
              "50%      136.000000   2630.000000   5142.000000       0.090000       0.080000   \n",
              "75%      195.000000   2775.000000   5511.000000       8.340000       8.460000   \n",
              "max      276.000000   2961.000000   5911.000000  176405.000000  181137.000000   \n",
              "\n",
              "               Y2016          Y2017          Y2018  \n",
              "count   59408.000000   59437.000000   59507.000000  \n",
              "mean      136.555222     140.917765     143.758381  \n",
              "std      1640.007194    1671.862359    1710.782658  \n",
              "min     -3225.000000   -1582.000000   -3396.000000  \n",
              "25%         0.000000       0.000000       0.000000  \n",
              "50%         0.080000       0.100000       0.070000  \n",
              "75%         8.430000       9.000000       9.000000  \n",
              "max    185960.000000  190873.000000  195875.000000  "
            ],
            "text/html": [
              "\n",
              "  <div id=\"df-158e0835-e27a-4f3c-b115-6009391f68d0\">\n",
              "    <div class=\"colab-df-container\">\n",
              "      <div>\n",
              "<style scoped>\n",
              "    .dataframe tbody tr th:only-of-type {\n",
              "        vertical-align: middle;\n",
              "    }\n",
              "\n",
              "    .dataframe tbody tr th {\n",
              "        vertical-align: top;\n",
              "    }\n",
              "\n",
              "    .dataframe thead th {\n",
              "        text-align: right;\n",
              "    }\n",
              "</style>\n",
              "<table border=\"1\" class=\"dataframe\">\n",
              "  <thead>\n",
              "    <tr style=\"text-align: right;\">\n",
              "      <th></th>\n",
              "      <th>Area Code</th>\n",
              "      <th>Item Code</th>\n",
              "      <th>Element Code</th>\n",
              "      <th>Y2014</th>\n",
              "      <th>Y2015</th>\n",
              "      <th>Y2016</th>\n",
              "      <th>Y2017</th>\n",
              "      <th>Y2018</th>\n",
              "    </tr>\n",
              "  </thead>\n",
              "  <tbody>\n",
              "    <tr>\n",
              "      <th>count</th>\n",
              "      <td>60943.000000</td>\n",
              "      <td>60943.000000</td>\n",
              "      <td>60943.000000</td>\n",
              "      <td>59354.000000</td>\n",
              "      <td>59395.000000</td>\n",
              "      <td>59408.000000</td>\n",
              "      <td>59437.000000</td>\n",
              "      <td>59507.000000</td>\n",
              "    </tr>\n",
              "    <tr>\n",
              "      <th>mean</th>\n",
              "      <td>134.265576</td>\n",
              "      <td>2687.176706</td>\n",
              "      <td>3814.856456</td>\n",
              "      <td>134.196282</td>\n",
              "      <td>135.235966</td>\n",
              "      <td>136.555222</td>\n",
              "      <td>140.917765</td>\n",
              "      <td>143.758381</td>\n",
              "    </tr>\n",
              "    <tr>\n",
              "      <th>std</th>\n",
              "      <td>72.605709</td>\n",
              "      <td>146.055739</td>\n",
              "      <td>2212.007033</td>\n",
              "      <td>1567.663696</td>\n",
              "      <td>1603.403984</td>\n",
              "      <td>1640.007194</td>\n",
              "      <td>1671.862359</td>\n",
              "      <td>1710.782658</td>\n",
              "    </tr>\n",
              "    <tr>\n",
              "      <th>min</th>\n",
              "      <td>4.000000</td>\n",
              "      <td>2501.000000</td>\n",
              "      <td>511.000000</td>\n",
              "      <td>-1796.000000</td>\n",
              "      <td>-3161.000000</td>\n",
              "      <td>-3225.000000</td>\n",
              "      <td>-1582.000000</td>\n",
              "      <td>-3396.000000</td>\n",
              "    </tr>\n",
              "    <tr>\n",
              "      <th>25%</th>\n",
              "      <td>74.000000</td>\n",
              "      <td>2562.000000</td>\n",
              "      <td>684.000000</td>\n",
              "      <td>0.000000</td>\n",
              "      <td>0.000000</td>\n",
              "      <td>0.000000</td>\n",
              "      <td>0.000000</td>\n",
              "      <td>0.000000</td>\n",
              "    </tr>\n",
              "    <tr>\n",
              "      <th>50%</th>\n",
              "      <td>136.000000</td>\n",
              "      <td>2630.000000</td>\n",
              "      <td>5142.000000</td>\n",
              "      <td>0.090000</td>\n",
              "      <td>0.080000</td>\n",
              "      <td>0.080000</td>\n",
              "      <td>0.100000</td>\n",
              "      <td>0.070000</td>\n",
              "    </tr>\n",
              "    <tr>\n",
              "      <th>75%</th>\n",
              "      <td>195.000000</td>\n",
              "      <td>2775.000000</td>\n",
              "      <td>5511.000000</td>\n",
              "      <td>8.340000</td>\n",
              "      <td>8.460000</td>\n",
              "      <td>8.430000</td>\n",
              "      <td>9.000000</td>\n",
              "      <td>9.000000</td>\n",
              "    </tr>\n",
              "    <tr>\n",
              "      <th>max</th>\n",
              "      <td>276.000000</td>\n",
              "      <td>2961.000000</td>\n",
              "      <td>5911.000000</td>\n",
              "      <td>176405.000000</td>\n",
              "      <td>181137.000000</td>\n",
              "      <td>185960.000000</td>\n",
              "      <td>190873.000000</td>\n",
              "      <td>195875.000000</td>\n",
              "    </tr>\n",
              "  </tbody>\n",
              "</table>\n",
              "</div>\n",
              "      <button class=\"colab-df-convert\" onclick=\"convertToInteractive('df-158e0835-e27a-4f3c-b115-6009391f68d0')\"\n",
              "              title=\"Convert this dataframe to an interactive table.\"\n",
              "              style=\"display:none;\">\n",
              "        \n",
              "  <svg xmlns=\"http://www.w3.org/2000/svg\" height=\"24px\"viewBox=\"0 0 24 24\"\n",
              "       width=\"24px\">\n",
              "    <path d=\"M0 0h24v24H0V0z\" fill=\"none\"/>\n",
              "    <path d=\"M18.56 5.44l.94 2.06.94-2.06 2.06-.94-2.06-.94-.94-2.06-.94 2.06-2.06.94zm-11 1L8.5 8.5l.94-2.06 2.06-.94-2.06-.94L8.5 2.5l-.94 2.06-2.06.94zm10 10l.94 2.06.94-2.06 2.06-.94-2.06-.94-.94-2.06-.94 2.06-2.06.94z\"/><path d=\"M17.41 7.96l-1.37-1.37c-.4-.4-.92-.59-1.43-.59-.52 0-1.04.2-1.43.59L10.3 9.45l-7.72 7.72c-.78.78-.78 2.05 0 2.83L4 21.41c.39.39.9.59 1.41.59.51 0 1.02-.2 1.41-.59l7.78-7.78 2.81-2.81c.8-.78.8-2.07 0-2.86zM5.41 20L4 18.59l7.72-7.72 1.47 1.35L5.41 20z\"/>\n",
              "  </svg>\n",
              "      </button>\n",
              "      \n",
              "  <style>\n",
              "    .colab-df-container {\n",
              "      display:flex;\n",
              "      flex-wrap:wrap;\n",
              "      gap: 12px;\n",
              "    }\n",
              "\n",
              "    .colab-df-convert {\n",
              "      background-color: #E8F0FE;\n",
              "      border: none;\n",
              "      border-radius: 50%;\n",
              "      cursor: pointer;\n",
              "      display: none;\n",
              "      fill: #1967D2;\n",
              "      height: 32px;\n",
              "      padding: 0 0 0 0;\n",
              "      width: 32px;\n",
              "    }\n",
              "\n",
              "    .colab-df-convert:hover {\n",
              "      background-color: #E2EBFA;\n",
              "      box-shadow: 0px 1px 2px rgba(60, 64, 67, 0.3), 0px 1px 3px 1px rgba(60, 64, 67, 0.15);\n",
              "      fill: #174EA6;\n",
              "    }\n",
              "\n",
              "    [theme=dark] .colab-df-convert {\n",
              "      background-color: #3B4455;\n",
              "      fill: #D2E3FC;\n",
              "    }\n",
              "\n",
              "    [theme=dark] .colab-df-convert:hover {\n",
              "      background-color: #434B5C;\n",
              "      box-shadow: 0px 1px 3px 1px rgba(0, 0, 0, 0.15);\n",
              "      filter: drop-shadow(0px 1px 2px rgba(0, 0, 0, 0.3));\n",
              "      fill: #FFFFFF;\n",
              "    }\n",
              "  </style>\n",
              "\n",
              "      <script>\n",
              "        const buttonEl =\n",
              "          document.querySelector('#df-158e0835-e27a-4f3c-b115-6009391f68d0 button.colab-df-convert');\n",
              "        buttonEl.style.display =\n",
              "          google.colab.kernel.accessAllowed ? 'block' : 'none';\n",
              "\n",
              "        async function convertToInteractive(key) {\n",
              "          const element = document.querySelector('#df-158e0835-e27a-4f3c-b115-6009391f68d0');\n",
              "          const dataTable =\n",
              "            await google.colab.kernel.invokeFunction('convertToInteractive',\n",
              "                                                     [key], {});\n",
              "          if (!dataTable) return;\n",
              "\n",
              "          const docLinkHtml = 'Like what you see? Visit the ' +\n",
              "            '<a target=\"_blank\" href=https://colab.research.google.com/notebooks/data_table.ipynb>data table notebook</a>'\n",
              "            + ' to learn more about interactive tables.';\n",
              "          element.innerHTML = '';\n",
              "          dataTable['output_type'] = 'display_data';\n",
              "          await google.colab.output.renderOutput(dataTable, element);\n",
              "          const docLink = document.createElement('div');\n",
              "          docLink.innerHTML = docLinkHtml;\n",
              "          element.appendChild(docLink);\n",
              "        }\n",
              "      </script>\n",
              "    </div>\n",
              "  </div>\n",
              "  "
            ]
          },
          "metadata": {},
          "execution_count": 42
        }
      ]
    },
    {
      "cell_type": "markdown",
      "source": [
        "Select columns ‘Y2017’ and ‘Area’, Perform a groupby operation on ‘Area’.  Which of these Areas had the 7th lowest sum in 2017?"
      ],
      "metadata": {
        "id": "BnYLwvrD3Aiv"
      }
    },
    {
      "cell_type": "code",
      "source": [
        "selected_cols = fao[['Y2017', 'Area']]\n",
        "grouped = selected_cols.groupby('Area').sum()\n",
        "seventh_lowest = grouped.sort_values(by='Y2017').iloc[6].name\n",
        "seventh_lowest"
      ],
      "metadata": {
        "colab": {
          "base_uri": "https://localhost:8080/",
          "height": 35
        },
        "id": "WBqVJG6z1b_w",
        "outputId": "bf5df0d2-4e39-45f9-9353-69c6b435bb68"
      },
      "execution_count": 43,
      "outputs": [
        {
          "output_type": "execute_result",
          "data": {
            "text/plain": [
              "'Guinea-Bissau'"
            ],
            "application/vnd.google.colaboratory.intrinsic+json": {
              "type": "string"
            }
          },
          "metadata": {},
          "execution_count": 43
        }
      ]
    },
    {
      "cell_type": "markdown",
      "source": [
        "Which year had the least correlation with ‘Element Code’?"
      ],
      "metadata": {
        "id": "Xnxntw333GVC"
      }
    },
    {
      "cell_type": "code",
      "source": [
        "corr_df = fao[['Element Code', 'Y2014', 'Y2015', 'Y2016', 'Y2017', 'Y2018']].corr()\n",
        "corr_df['Element Code'][1:]"
      ],
      "metadata": {
        "colab": {
          "base_uri": "https://localhost:8080/"
        },
        "id": "e2Vrh3nN1kNL",
        "outputId": "963b38ad-2018-4bdb-92c7-07ed152b03fd"
      },
      "execution_count": 44,
      "outputs": [
        {
          "output_type": "execute_result",
          "data": {
            "text/plain": [
              "Y2014    0.024457\n",
              "Y2015    0.023889\n",
              "Y2016    0.023444\n",
              "Y2017    0.024254\n",
              "Y2018    0.024279\n",
              "Name: Element Code, dtype: float64"
            ]
          },
          "metadata": {},
          "execution_count": 44
        }
      ]
    },
    {
      "cell_type": "markdown",
      "source": [
        "If you have the following list  lst = [[35, 'Portugal', 94], [33, 'Argentina', 93], [30 , 'Brazil', 92]]  col = [‘Age’,’Nationality’,’Overall’]  How do you create a pandas DataFrame using this list, to look like the table below?"
      ],
      "metadata": {
        "id": "-gXrL3wl1oiS"
      }
    },
    {
      "cell_type": "code",
      "source": [
        "lst = [[35, 'Portugal', 94], [33, 'Argentina', 93], [30 , 'Brazil', 92]]\n",
        "col = ['Age', 'Nationality', 'Overall']\n",
        "cols = pd.DataFrame(lst, columns=col)\n",
        "cols"
      ],
      "metadata": {
        "colab": {
          "base_uri": "https://localhost:8080/",
          "height": 143
        },
        "id": "FCki4kyc1tyK",
        "outputId": "6e961bd2-2fcb-4020-c3e8-97f231ec5693"
      },
      "execution_count": 45,
      "outputs": [
        {
          "output_type": "execute_result",
          "data": {
            "text/plain": [
              "   Age Nationality  Overall\n",
              "0   35    Portugal       94\n",
              "1   33   Argentina       93\n",
              "2   30      Brazil       92"
            ],
            "text/html": [
              "\n",
              "  <div id=\"df-134a9a61-4a46-4561-8a37-a1b06113a66b\">\n",
              "    <div class=\"colab-df-container\">\n",
              "      <div>\n",
              "<style scoped>\n",
              "    .dataframe tbody tr th:only-of-type {\n",
              "        vertical-align: middle;\n",
              "    }\n",
              "\n",
              "    .dataframe tbody tr th {\n",
              "        vertical-align: top;\n",
              "    }\n",
              "\n",
              "    .dataframe thead th {\n",
              "        text-align: right;\n",
              "    }\n",
              "</style>\n",
              "<table border=\"1\" class=\"dataframe\">\n",
              "  <thead>\n",
              "    <tr style=\"text-align: right;\">\n",
              "      <th></th>\n",
              "      <th>Age</th>\n",
              "      <th>Nationality</th>\n",
              "      <th>Overall</th>\n",
              "    </tr>\n",
              "  </thead>\n",
              "  <tbody>\n",
              "    <tr>\n",
              "      <th>0</th>\n",
              "      <td>35</td>\n",
              "      <td>Portugal</td>\n",
              "      <td>94</td>\n",
              "    </tr>\n",
              "    <tr>\n",
              "      <th>1</th>\n",
              "      <td>33</td>\n",
              "      <td>Argentina</td>\n",
              "      <td>93</td>\n",
              "    </tr>\n",
              "    <tr>\n",
              "      <th>2</th>\n",
              "      <td>30</td>\n",
              "      <td>Brazil</td>\n",
              "      <td>92</td>\n",
              "    </tr>\n",
              "  </tbody>\n",
              "</table>\n",
              "</div>\n",
              "      <button class=\"colab-df-convert\" onclick=\"convertToInteractive('df-134a9a61-4a46-4561-8a37-a1b06113a66b')\"\n",
              "              title=\"Convert this dataframe to an interactive table.\"\n",
              "              style=\"display:none;\">\n",
              "        \n",
              "  <svg xmlns=\"http://www.w3.org/2000/svg\" height=\"24px\"viewBox=\"0 0 24 24\"\n",
              "       width=\"24px\">\n",
              "    <path d=\"M0 0h24v24H0V0z\" fill=\"none\"/>\n",
              "    <path d=\"M18.56 5.44l.94 2.06.94-2.06 2.06-.94-2.06-.94-.94-2.06-.94 2.06-2.06.94zm-11 1L8.5 8.5l.94-2.06 2.06-.94-2.06-.94L8.5 2.5l-.94 2.06-2.06.94zm10 10l.94 2.06.94-2.06 2.06-.94-2.06-.94-.94-2.06-.94 2.06-2.06.94z\"/><path d=\"M17.41 7.96l-1.37-1.37c-.4-.4-.92-.59-1.43-.59-.52 0-1.04.2-1.43.59L10.3 9.45l-7.72 7.72c-.78.78-.78 2.05 0 2.83L4 21.41c.39.39.9.59 1.41.59.51 0 1.02-.2 1.41-.59l7.78-7.78 2.81-2.81c.8-.78.8-2.07 0-2.86zM5.41 20L4 18.59l7.72-7.72 1.47 1.35L5.41 20z\"/>\n",
              "  </svg>\n",
              "      </button>\n",
              "      \n",
              "  <style>\n",
              "    .colab-df-container {\n",
              "      display:flex;\n",
              "      flex-wrap:wrap;\n",
              "      gap: 12px;\n",
              "    }\n",
              "\n",
              "    .colab-df-convert {\n",
              "      background-color: #E8F0FE;\n",
              "      border: none;\n",
              "      border-radius: 50%;\n",
              "      cursor: pointer;\n",
              "      display: none;\n",
              "      fill: #1967D2;\n",
              "      height: 32px;\n",
              "      padding: 0 0 0 0;\n",
              "      width: 32px;\n",
              "    }\n",
              "\n",
              "    .colab-df-convert:hover {\n",
              "      background-color: #E2EBFA;\n",
              "      box-shadow: 0px 1px 2px rgba(60, 64, 67, 0.3), 0px 1px 3px 1px rgba(60, 64, 67, 0.15);\n",
              "      fill: #174EA6;\n",
              "    }\n",
              "\n",
              "    [theme=dark] .colab-df-convert {\n",
              "      background-color: #3B4455;\n",
              "      fill: #D2E3FC;\n",
              "    }\n",
              "\n",
              "    [theme=dark] .colab-df-convert:hover {\n",
              "      background-color: #434B5C;\n",
              "      box-shadow: 0px 1px 3px 1px rgba(0, 0, 0, 0.15);\n",
              "      filter: drop-shadow(0px 1px 2px rgba(0, 0, 0, 0.3));\n",
              "      fill: #FFFFFF;\n",
              "    }\n",
              "  </style>\n",
              "\n",
              "      <script>\n",
              "        const buttonEl =\n",
              "          document.querySelector('#df-134a9a61-4a46-4561-8a37-a1b06113a66b button.colab-df-convert');\n",
              "        buttonEl.style.display =\n",
              "          google.colab.kernel.accessAllowed ? 'block' : 'none';\n",
              "\n",
              "        async function convertToInteractive(key) {\n",
              "          const element = document.querySelector('#df-134a9a61-4a46-4561-8a37-a1b06113a66b');\n",
              "          const dataTable =\n",
              "            await google.colab.kernel.invokeFunction('convertToInteractive',\n",
              "                                                     [key], {});\n",
              "          if (!dataTable) return;\n",
              "\n",
              "          const docLinkHtml = 'Like what you see? Visit the ' +\n",
              "            '<a target=\"_blank\" href=https://colab.research.google.com/notebooks/data_table.ipynb>data table notebook</a>'\n",
              "            + ' to learn more about interactive tables.';\n",
              "          element.innerHTML = '';\n",
              "          dataTable['output_type'] = 'display_data';\n",
              "          await google.colab.output.renderOutput(dataTable, element);\n",
              "          const docLink = document.createElement('div');\n",
              "          docLink.innerHTML = docLinkHtml;\n",
              "          element.appendChild(docLink);\n",
              "        }\n",
              "      </script>\n",
              "    </div>\n",
              "  </div>\n",
              "  "
            ]
          },
          "metadata": {},
          "execution_count": 45
        }
      ]
    },
    {
      "cell_type": "markdown",
      "source": [
        "What is the total sum of Wine produced in 2015 and 2018 respectively?"
      ],
      "metadata": {
        "id": "eudtA-Tt15Xx"
      }
    },
    {
      "cell_type": "code",
      "source": [
        "wine_production = fao[fao['Item'] == 'Wine']\n",
        "sum_wine_2015_2018 = wine_production[['Y2015', 'Y2018']].sum()\n",
        "sum_wine_2015_2018"
      ],
      "metadata": {
        "colab": {
          "base_uri": "https://localhost:8080/"
        },
        "id": "C3kaaYJf157C",
        "outputId": "58dc60d4-8bac-49af-c3ae-cf33e0db783f"
      },
      "execution_count": 46,
      "outputs": [
        {
          "output_type": "execute_result",
          "data": {
            "text/plain": [
              "Y2015    4251.81\n",
              "Y2018    4039.32\n",
              "dtype: float64"
            ]
          },
          "metadata": {},
          "execution_count": 46
        }
      ]
    },
    {
      "cell_type": "markdown",
      "source": [
        "Select columns ‘Y2017’ and ‘Area’, Perform a groupby operation on ‘Area’.  Which of these Areas had the highest sum in 2017?"
      ],
      "metadata": {
        "id": "QlWqECJ02CQF"
      }
    },
    {
      "cell_type": "code",
      "source": [
        "selected_cols = fao[['Y2017', 'Area']]\n",
        "grouped = selected_cols.groupby('Area').sum()\n",
        "highest_sum_2017 = grouped['Y2017'].idxmax()\n",
        "highest_sum_2017"
      ],
      "metadata": {
        "colab": {
          "base_uri": "https://localhost:8080/",
          "height": 35
        },
        "id": "9KjYA4t619sM",
        "outputId": "59226e33-4154-44eb-fc55-0e414343413e"
      },
      "execution_count": 47,
      "outputs": [
        {
          "output_type": "execute_result",
          "data": {
            "text/plain": [
              "'Nigeria'"
            ],
            "application/vnd.google.colaboratory.intrinsic+json": {
              "type": "string"
            }
          },
          "metadata": {},
          "execution_count": 47
        }
      ]
    },
    {
      "cell_type": "markdown",
      "source": [
        "What is the total number of unique countries in the dataset?"
      ],
      "metadata": {
        "id": "RZwByFTy2KdY"
      }
    },
    {
      "cell_type": "code",
      "source": [
        "fao['Area'].nunique()"
      ],
      "metadata": {
        "colab": {
          "base_uri": "https://localhost:8080/"
        },
        "id": "efp3Qnck2Qvs",
        "outputId": "9d564142-aca6-40d4-a0ba-68c581442631"
      },
      "execution_count": 48,
      "outputs": [
        {
          "output_type": "execute_result",
          "data": {
            "text/plain": [
              "49"
            ]
          },
          "metadata": {},
          "execution_count": 48
        }
      ]
    },
    {
      "cell_type": "markdown",
      "source": [
        "What is the total Protein supply quantity in Madagascar in 2015?"
      ],
      "metadata": {
        "id": "pp3P3wPT2Ybe"
      }
    },
    {
      "cell_type": "code",
      "source": [
        "madagascar_protein_2015 = fao[(fao['Area'] == 'Madagascar') & (fao['Element'] == 'Food supply quantity (kg/capita/yr)') & (fao['Item'] == 'Protein')]\n",
        "total_protein_2015 = madagascar_protein_2015['Y2015'].sum()\n",
        "total_protein_2015"
      ],
      "metadata": {
        "colab": {
          "base_uri": "https://localhost:8080/"
        },
        "id": "b-NLlK042KBg",
        "outputId": "d72e7641-a017-40a3-d4da-2ccb817bd54f"
      },
      "execution_count": 49,
      "outputs": [
        {
          "output_type": "execute_result",
          "data": {
            "text/plain": [
              "0.0"
            ]
          },
          "metadata": {},
          "execution_count": 49
        }
      ]
    },
    {
      "cell_type": "markdown",
      "source": [],
      "metadata": {
        "id": "jN6l9Yww2lI9"
      }
    }
  ]
}